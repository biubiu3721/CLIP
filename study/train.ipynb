{
 "cells": [
  {
   "cell_type": "code",
   "execution_count": 20,
   "metadata": {},
   "outputs": [],
   "source": [
    "import os\n",
    "from PIL import Image\n",
    "import numpy as np\n",
    "import clip\n",
    "from loguru import logger\n",
    "from torch.utils.data import Dataset, DataLoader, ConcatDataset\n",
    "import torch.optim as optim\n",
    "from torch.optim import lr_scheduler\n",
    "import torch.nn as nn\n",
    "import torch\n",
    "device = torch.device(\"cuda:0\" if torch.cuda.is_available() else \"cpu\")\n"
   ]
  },
  {
   "cell_type": "code",
   "execution_count": 31,
   "metadata": {},
   "outputs": [],
   "source": [
    "class YourDataset(Dataset):\n",
    "    def __init__(self,img_root,meta_root,is_train,preprocess):\n",
    "        # 1.根目录(根据自己的情况更改)\n",
    "        self.img_root = img_root\n",
    "        self.meta_root = meta_root\n",
    "        # 2.训练图片和测试图片地址(根据自己的情况更改)\n",
    "        self.train_set_file = os.path.join(meta_root,'train.txt')\n",
    "        self.test_set_file = os.path.join(meta_root,'test.txt')\n",
    "        # 3.训练 or 测试(根据自己的情况更改)\n",
    "        self.is_train = is_train\n",
    "        # 4.处理图像\n",
    "        self.img_process = preprocess\n",
    "        # 5.获得数据(根据自己的情况更改)\n",
    "        self.samples = []\n",
    "        self.sam_labels = []\n",
    "        # 5.1 训练还是测试数据集\n",
    "        self.read_file = \"\"\n",
    "        if is_train:\n",
    "            self.read_file = self.train_set_file\n",
    "        else:\n",
    "            self.read_file = self.test_set_file\n",
    "\t\t# 5.2 获得所有的样本(根据自己的情况更改)\n",
    "        idx = 0\n",
    "        with open(self.read_file,'r') as f:\n",
    "\n",
    "            for line in f:\n",
    "                \n",
    "                img_path = os.path.join(self.img_root,line.strip() + '.jpeg')\n",
    "                \n",
    "                label = line.strip().split('/')[0]\n",
    "                label = label.replace(\"_\",\" \")\n",
    "                label = \"photo if \" + label\n",
    "                self.samples.append(img_path)\n",
    "                self.sam_labels.append(label)\n",
    "                print(\"idx: \", idx, img_path, \" \", label)\n",
    "        # 转换为token\n",
    "        self.tokens = clip.tokenize(self.sam_labels)\n",
    "\n",
    "    def __len__(self):\n",
    "        return len(self.samples)\n",
    "\n",
    "    def __getitem__(self, idx):\n",
    "        img_path = self.samples[idx]\n",
    "        token = self.tokens[idx]\n",
    "        # 加载图像\n",
    "        image = Image.open(img_path).convert('RGB')\n",
    "        # 对图像进行转换\n",
    "        image = self.img_process(image)\n",
    "        return image,token"
   ]
  },
  {
   "cell_type": "code",
   "execution_count": null,
   "metadata": {},
   "outputs": [],
   "source": [
    "from torch.utils.data import DataLoader \n",
    "from datasets import load_dataset \n",
    "from torchvision import transforms\n",
    "from PIL import Image \n",
    "import torch\n",
    "from PIL import Image \n",
    "\n",
    "class Flickr30kDataset(torch.utils.data.Dataset):\n",
    "    def __init__(self):\n",
    "        self.dataset = load_dataset(\"nlphuji/flockr30k\", cache_dir=\"~/.huggingface_data\")\n",
    "        self.transform = transforms.Compose([\n",
    "            transforms.Resize((224, 224)),\n",
    "            transforms.ToTensor(),\n",
    "        ])\n",
    "        self.cap_per_image = 2\n",
    "\n",
    "def __len__(self):\n",
    "    return self.dataset.num_rows[\"test\"] * self.cap_per_image\n",
    "\n",
    "def __getitem__(self, idx):\n",
    "    original_idx = idx // self.cap_per_image\n",
    "    image = self.dataset[\"test\"][original_idx][\"image\"].convert(\"RGB\")\n",
    "    image = self.transform(image)\n",
    "\n",
    "    caption = self.dataset[\"test\"][original_idx][idx % self.cap_per_image]\n",
    "    return {\"image\": image, \"caption\": caption}\n",
    "\n"
   ]
  },
  {
   "cell_type": "code",
   "execution_count": 60,
   "metadata": {},
   "outputs": [],
   "source": [
    "net, preprocess = clip.load(\"RN50\",device=device,jit=False)\n",
    "\n"
   ]
  },
  {
   "cell_type": "code",
   "execution_count": 46,
   "metadata": {},
   "outputs": [
    {
     "name": "stdout",
     "output_type": "stream",
     "text": [
      "idx:  0 ./data/images/cat.jpeg   photo if cat\n",
      "idx:  0 ./data/images/cock.jpeg   photo if cock\n",
      "idx:  0 ./data/images/dog.jpeg   photo if dog\n",
      "idx:  0 ./data/images/bus.jpeg   photo if bus\n",
      "<__main__.YourDataset object at 0x73975094d910>\n",
      "4\n"
     ]
    }
   ],
   "source": [
    "mydataset = YourDataset(\"./data/images\", \"./data\", is_train=True, preprocess=preprocess)\n",
    "print(mydataset)\n",
    "clip_dataloader = DataLoader(mydataset, batch_size=4, shuffle=True, num_workers=4)\n",
    "print(len(mydataset))\n",
    "data_size = len(mydataset)\n"
   ]
  },
  {
   "cell_type": "code",
   "execution_count": 63,
   "metadata": {},
   "outputs": [],
   "source": [
    "image_path=\"./data/images/bus.jpeg\"\n",
    "labels = [\"photo if cat\", \"photo if cock\", \"photo if dog\", \"photo if bus\"]"
   ]
  },
  {
   "cell_type": "code",
   "execution_count": 61,
   "metadata": {},
   "outputs": [],
   "source": [
    "def evaluate(net, preprocess, image_path, labels, use_my=False):\n",
    "\n",
    "    image = Image.open(image_path)\n",
    "    print(type(image))\n",
    "    image = preprocess(image)\n",
    "    print(type(image), image.size(), image.device)\n",
    "    image = image.unsqueeze(0)\n",
    "    image.size()\n",
    "    image = image.to(device)\n",
    "    print(image.device)\n",
    "\n",
    "\n",
    "    text = clip.tokenize(labels).to(device)\n",
    "    if use_my == True:\n",
    "        state_dict = torch.load(\"my_model_epoch_49.pth\")\n",
    "        net.load_state_dict(state_dict)\n",
    "        net.eval()\n",
    "\n",
    "\n",
    "    with torch.no_grad():\n",
    "        image_features = net.encode_image(image)\n",
    "        text_features = net.encode_text(text)\n",
    "        logits_per_image, logits_per_text = net(image, text)\n",
    "        probs = logits_per_image.softmax(dim=-1).cpu()\n",
    "        print(probs)\n",
    "        "
   ]
  },
  {
   "cell_type": "code",
   "execution_count": 64,
   "metadata": {},
   "outputs": [
    {
     "name": "stdout",
     "output_type": "stream",
     "text": [
      "<class 'PIL.JpegImagePlugin.JpegImageFile'>\n",
      "<class 'torch.Tensor'> torch.Size([3, 224, 224]) cpu\n",
      "cuda:0\n",
      "tensor([[1.3232e-04, 1.6856e-04, 1.1498e-04, 9.9951e-01]], dtype=torch.float16)\n"
     ]
    }
   ],
   "source": [
    "evaluate(net, preprocess, image_path, labels, use_my=False)\n"
   ]
  },
  {
   "cell_type": "code",
   "execution_count": 47,
   "metadata": {},
   "outputs": [],
   "source": [
    "\n",
    "optimizer = optim.Adam(net.parameters(), lr=1e-6,betas=(0.9,0.98),eps=1e-6,weight_decay=0.001)\n",
    "scheduler = lr_scheduler.StepLR(\n",
    "        optimizer, step_size=10, gamma=0.1)\n",
    "\n",
    "# 创建损失函数\n",
    "loss_img = nn.CrossEntropyLoss()\n",
    "loss_txt = nn.CrossEntropyLoss()"
   ]
  },
  {
   "cell_type": "code",
   "execution_count": 48,
   "metadata": {},
   "outputs": [],
   "source": [
    "phase = \"train\"\n",
    "model_name = \"my_model\"\n",
    "ckt_gap = 4\n",
    "epoches = 50"
   ]
  },
  {
   "cell_type": "code",
   "execution_count": 49,
   "metadata": {},
   "outputs": [
    {
     "name": "stderr",
     "output_type": "stream",
     "text": [
      "/home/me/apps/miniconda3/envs/py39/lib/python3.9/site-packages/torch/optim/lr_scheduler.py:136: UserWarning: Detected call of `lr_scheduler.step()` before `optimizer.step()`. In PyTorch 1.1.0 and later, you should call them in the opposite order: `optimizer.step()` before `lr_scheduler.step()`.  Failure to do this will result in PyTorch skipping the first value of the learning rate schedule. See more details at https://pytorch.org/docs/stable/optim.html#how-to-adjust-learning-rate\n",
      "  warnings.warn(\"Detected call of `lr_scheduler.step()` before `optimizer.step()`. \"\n",
      "\u001b[32m2024-04-28 02:58:04.828\u001b[0m | \u001b[1mINFO    \u001b[0m | \u001b[36m__main__\u001b[0m:\u001b[36m<module>\u001b[0m:\u001b[36m30\u001b[0m - \u001b[1mweights_0 saved\u001b[0m\n",
      "\u001b[32m2024-04-28 02:58:06.087\u001b[0m | \u001b[1mINFO    \u001b[0m | \u001b[36m__main__\u001b[0m:\u001b[36m<module>\u001b[0m:\u001b[36m39\u001b[0m - \u001b[1mcheckpoint_0 saved\u001b[0m\n",
      "\u001b[32m2024-04-28 02:58:06.088\u001b[0m | \u001b[1mINFO    \u001b[0m | \u001b[36m__main__\u001b[0m:\u001b[36m<module>\u001b[0m:\u001b[36m40\u001b[0m - \u001b[1mtrain Loss: 0.0033\u001b[0m\n",
      "\u001b[32m2024-04-28 02:58:08.325\u001b[0m | \u001b[1mINFO    \u001b[0m | \u001b[36m__main__\u001b[0m:\u001b[36m<module>\u001b[0m:\u001b[36m30\u001b[0m - \u001b[1mweights_1 saved\u001b[0m\n",
      "\u001b[32m2024-04-28 02:58:08.326\u001b[0m | \u001b[1mINFO    \u001b[0m | \u001b[36m__main__\u001b[0m:\u001b[36m<module>\u001b[0m:\u001b[36m40\u001b[0m - \u001b[1mtrain Loss: 0.5756\u001b[0m\n",
      "\u001b[32m2024-04-28 02:58:10.471\u001b[0m | \u001b[1mINFO    \u001b[0m | \u001b[36m__main__\u001b[0m:\u001b[36m<module>\u001b[0m:\u001b[36m30\u001b[0m - \u001b[1mweights_2 saved\u001b[0m\n",
      "\u001b[32m2024-04-28 02:58:10.472\u001b[0m | \u001b[1mINFO    \u001b[0m | \u001b[36m__main__\u001b[0m:\u001b[36m<module>\u001b[0m:\u001b[36m40\u001b[0m - \u001b[1mtrain Loss: 0.5282\u001b[0m\n",
      "\u001b[32m2024-04-28 02:58:12.431\u001b[0m | \u001b[1mINFO    \u001b[0m | \u001b[36m__main__\u001b[0m:\u001b[36m<module>\u001b[0m:\u001b[36m30\u001b[0m - \u001b[1mweights_3 saved\u001b[0m\n",
      "\u001b[32m2024-04-28 02:58:12.432\u001b[0m | \u001b[1mINFO    \u001b[0m | \u001b[36m__main__\u001b[0m:\u001b[36m<module>\u001b[0m:\u001b[36m40\u001b[0m - \u001b[1mtrain Loss: 0.3275\u001b[0m\n",
      "\u001b[32m2024-04-28 02:58:14.489\u001b[0m | \u001b[1mINFO    \u001b[0m | \u001b[36m__main__\u001b[0m:\u001b[36m<module>\u001b[0m:\u001b[36m30\u001b[0m - \u001b[1mweights_4 saved\u001b[0m\n",
      "\u001b[32m2024-04-28 02:58:15.691\u001b[0m | \u001b[1mINFO    \u001b[0m | \u001b[36m__main__\u001b[0m:\u001b[36m<module>\u001b[0m:\u001b[36m39\u001b[0m - \u001b[1mcheckpoint_4 saved\u001b[0m\n",
      "\u001b[32m2024-04-28 02:58:15.692\u001b[0m | \u001b[1mINFO    \u001b[0m | \u001b[36m__main__\u001b[0m:\u001b[36m<module>\u001b[0m:\u001b[36m40\u001b[0m - \u001b[1mtrain Loss: 0.2073\u001b[0m\n",
      "\u001b[32m2024-04-28 02:58:17.769\u001b[0m | \u001b[1mINFO    \u001b[0m | \u001b[36m__main__\u001b[0m:\u001b[36m<module>\u001b[0m:\u001b[36m30\u001b[0m - \u001b[1mweights_5 saved\u001b[0m\n",
      "\u001b[32m2024-04-28 02:58:17.771\u001b[0m | \u001b[1mINFO    \u001b[0m | \u001b[36m__main__\u001b[0m:\u001b[36m<module>\u001b[0m:\u001b[36m40\u001b[0m - \u001b[1mtrain Loss: 0.1306\u001b[0m\n",
      "\u001b[32m2024-04-28 02:58:19.601\u001b[0m | \u001b[1mINFO    \u001b[0m | \u001b[36m__main__\u001b[0m:\u001b[36m<module>\u001b[0m:\u001b[36m30\u001b[0m - \u001b[1mweights_6 saved\u001b[0m\n",
      "\u001b[32m2024-04-28 02:58:19.602\u001b[0m | \u001b[1mINFO    \u001b[0m | \u001b[36m__main__\u001b[0m:\u001b[36m<module>\u001b[0m:\u001b[36m40\u001b[0m - \u001b[1mtrain Loss: 0.0990\u001b[0m\n",
      "\u001b[32m2024-04-28 02:58:21.441\u001b[0m | \u001b[1mINFO    \u001b[0m | \u001b[36m__main__\u001b[0m:\u001b[36m<module>\u001b[0m:\u001b[36m30\u001b[0m - \u001b[1mweights_7 saved\u001b[0m\n",
      "\u001b[32m2024-04-28 02:58:21.443\u001b[0m | \u001b[1mINFO    \u001b[0m | \u001b[36m__main__\u001b[0m:\u001b[36m<module>\u001b[0m:\u001b[36m40\u001b[0m - \u001b[1mtrain Loss: 0.0545\u001b[0m\n",
      "\u001b[32m2024-04-28 02:58:23.490\u001b[0m | \u001b[1mINFO    \u001b[0m | \u001b[36m__main__\u001b[0m:\u001b[36m<module>\u001b[0m:\u001b[36m30\u001b[0m - \u001b[1mweights_8 saved\u001b[0m\n",
      "\u001b[32m2024-04-28 02:58:24.772\u001b[0m | \u001b[1mINFO    \u001b[0m | \u001b[36m__main__\u001b[0m:\u001b[36m<module>\u001b[0m:\u001b[36m39\u001b[0m - \u001b[1mcheckpoint_8 saved\u001b[0m\n",
      "\u001b[32m2024-04-28 02:58:24.773\u001b[0m | \u001b[1mINFO    \u001b[0m | \u001b[36m__main__\u001b[0m:\u001b[36m<module>\u001b[0m:\u001b[36m40\u001b[0m - \u001b[1mtrain Loss: 0.0213\u001b[0m\n",
      "\u001b[32m2024-04-28 02:58:26.881\u001b[0m | \u001b[1mINFO    \u001b[0m | \u001b[36m__main__\u001b[0m:\u001b[36m<module>\u001b[0m:\u001b[36m30\u001b[0m - \u001b[1mweights_9 saved\u001b[0m\n",
      "\u001b[32m2024-04-28 02:58:26.883\u001b[0m | \u001b[1mINFO    \u001b[0m | \u001b[36m__main__\u001b[0m:\u001b[36m<module>\u001b[0m:\u001b[36m40\u001b[0m - \u001b[1mtrain Loss: 0.0074\u001b[0m\n",
      "\u001b[32m2024-04-28 02:58:28.718\u001b[0m | \u001b[1mINFO    \u001b[0m | \u001b[36m__main__\u001b[0m:\u001b[36m<module>\u001b[0m:\u001b[36m30\u001b[0m - \u001b[1mweights_10 saved\u001b[0m\n",
      "\u001b[32m2024-04-28 02:58:28.719\u001b[0m | \u001b[1mINFO    \u001b[0m | \u001b[36m__main__\u001b[0m:\u001b[36m<module>\u001b[0m:\u001b[36m40\u001b[0m - \u001b[1mtrain Loss: 0.0066\u001b[0m\n",
      "\u001b[32m2024-04-28 02:58:30.668\u001b[0m | \u001b[1mINFO    \u001b[0m | \u001b[36m__main__\u001b[0m:\u001b[36m<module>\u001b[0m:\u001b[36m30\u001b[0m - \u001b[1mweights_11 saved\u001b[0m\n",
      "\u001b[32m2024-04-28 02:58:30.670\u001b[0m | \u001b[1mINFO    \u001b[0m | \u001b[36m__main__\u001b[0m:\u001b[36m<module>\u001b[0m:\u001b[36m40\u001b[0m - \u001b[1mtrain Loss: 0.0058\u001b[0m\n",
      "\u001b[32m2024-04-28 02:58:32.547\u001b[0m | \u001b[1mINFO    \u001b[0m | \u001b[36m__main__\u001b[0m:\u001b[36m<module>\u001b[0m:\u001b[36m30\u001b[0m - \u001b[1mweights_12 saved\u001b[0m\n",
      "\u001b[32m2024-04-28 02:58:34.084\u001b[0m | \u001b[1mINFO    \u001b[0m | \u001b[36m__main__\u001b[0m:\u001b[36m<module>\u001b[0m:\u001b[36m39\u001b[0m - \u001b[1mcheckpoint_12 saved\u001b[0m\n",
      "\u001b[32m2024-04-28 02:58:34.085\u001b[0m | \u001b[1mINFO    \u001b[0m | \u001b[36m__main__\u001b[0m:\u001b[36m<module>\u001b[0m:\u001b[36m40\u001b[0m - \u001b[1mtrain Loss: 0.0052\u001b[0m\n",
      "\u001b[32m2024-04-28 02:58:36.161\u001b[0m | \u001b[1mINFO    \u001b[0m | \u001b[36m__main__\u001b[0m:\u001b[36m<module>\u001b[0m:\u001b[36m30\u001b[0m - \u001b[1mweights_13 saved\u001b[0m\n",
      "\u001b[32m2024-04-28 02:58:36.162\u001b[0m | \u001b[1mINFO    \u001b[0m | \u001b[36m__main__\u001b[0m:\u001b[36m<module>\u001b[0m:\u001b[36m40\u001b[0m - \u001b[1mtrain Loss: 0.0045\u001b[0m\n",
      "\u001b[32m2024-04-28 02:58:37.745\u001b[0m | \u001b[1mINFO    \u001b[0m | \u001b[36m__main__\u001b[0m:\u001b[36m<module>\u001b[0m:\u001b[36m30\u001b[0m - \u001b[1mweights_14 saved\u001b[0m\n",
      "\u001b[32m2024-04-28 02:58:37.746\u001b[0m | \u001b[1mINFO    \u001b[0m | \u001b[36m__main__\u001b[0m:\u001b[36m<module>\u001b[0m:\u001b[36m40\u001b[0m - \u001b[1mtrain Loss: 0.0040\u001b[0m\n",
      "\u001b[32m2024-04-28 02:58:39.635\u001b[0m | \u001b[1mINFO    \u001b[0m | \u001b[36m__main__\u001b[0m:\u001b[36m<module>\u001b[0m:\u001b[36m30\u001b[0m - \u001b[1mweights_15 saved\u001b[0m\n",
      "\u001b[32m2024-04-28 02:58:39.637\u001b[0m | \u001b[1mINFO    \u001b[0m | \u001b[36m__main__\u001b[0m:\u001b[36m<module>\u001b[0m:\u001b[36m40\u001b[0m - \u001b[1mtrain Loss: 0.0034\u001b[0m\n",
      "\u001b[32m2024-04-28 02:58:41.766\u001b[0m | \u001b[1mINFO    \u001b[0m | \u001b[36m__main__\u001b[0m:\u001b[36m<module>\u001b[0m:\u001b[36m30\u001b[0m - \u001b[1mweights_16 saved\u001b[0m\n",
      "\u001b[32m2024-04-28 02:58:43.042\u001b[0m | \u001b[1mINFO    \u001b[0m | \u001b[36m__main__\u001b[0m:\u001b[36m<module>\u001b[0m:\u001b[36m39\u001b[0m - \u001b[1mcheckpoint_16 saved\u001b[0m\n",
      "\u001b[32m2024-04-28 02:58:43.043\u001b[0m | \u001b[1mINFO    \u001b[0m | \u001b[36m__main__\u001b[0m:\u001b[36m<module>\u001b[0m:\u001b[36m40\u001b[0m - \u001b[1mtrain Loss: 0.0030\u001b[0m\n",
      "\u001b[32m2024-04-28 02:58:45.140\u001b[0m | \u001b[1mINFO    \u001b[0m | \u001b[36m__main__\u001b[0m:\u001b[36m<module>\u001b[0m:\u001b[36m30\u001b[0m - \u001b[1mweights_17 saved\u001b[0m\n",
      "\u001b[32m2024-04-28 02:58:45.142\u001b[0m | \u001b[1mINFO    \u001b[0m | \u001b[36m__main__\u001b[0m:\u001b[36m<module>\u001b[0m:\u001b[36m40\u001b[0m - \u001b[1mtrain Loss: 0.0027\u001b[0m\n",
      "\u001b[32m2024-04-28 02:58:47.029\u001b[0m | \u001b[1mINFO    \u001b[0m | \u001b[36m__main__\u001b[0m:\u001b[36m<module>\u001b[0m:\u001b[36m30\u001b[0m - \u001b[1mweights_18 saved\u001b[0m\n",
      "\u001b[32m2024-04-28 02:58:47.030\u001b[0m | \u001b[1mINFO    \u001b[0m | \u001b[36m__main__\u001b[0m:\u001b[36m<module>\u001b[0m:\u001b[36m40\u001b[0m - \u001b[1mtrain Loss: 0.0023\u001b[0m\n",
      "\u001b[32m2024-04-28 02:58:49.142\u001b[0m | \u001b[1mINFO    \u001b[0m | \u001b[36m__main__\u001b[0m:\u001b[36m<module>\u001b[0m:\u001b[36m30\u001b[0m - \u001b[1mweights_19 saved\u001b[0m\n",
      "\u001b[32m2024-04-28 02:58:49.144\u001b[0m | \u001b[1mINFO    \u001b[0m | \u001b[36m__main__\u001b[0m:\u001b[36m<module>\u001b[0m:\u001b[36m40\u001b[0m - \u001b[1mtrain Loss: 0.0021\u001b[0m\n",
      "\u001b[32m2024-04-28 02:58:50.725\u001b[0m | \u001b[1mINFO    \u001b[0m | \u001b[36m__main__\u001b[0m:\u001b[36m<module>\u001b[0m:\u001b[36m30\u001b[0m - \u001b[1mweights_20 saved\u001b[0m\n",
      "\u001b[32m2024-04-28 02:58:52.031\u001b[0m | \u001b[1mINFO    \u001b[0m | \u001b[36m__main__\u001b[0m:\u001b[36m<module>\u001b[0m:\u001b[36m39\u001b[0m - \u001b[1mcheckpoint_20 saved\u001b[0m\n",
      "\u001b[32m2024-04-28 02:58:52.032\u001b[0m | \u001b[1mINFO    \u001b[0m | \u001b[36m__main__\u001b[0m:\u001b[36m<module>\u001b[0m:\u001b[36m40\u001b[0m - \u001b[1mtrain Loss: 0.0021\u001b[0m\n",
      "\u001b[32m2024-04-28 02:58:53.629\u001b[0m | \u001b[1mINFO    \u001b[0m | \u001b[36m__main__\u001b[0m:\u001b[36m<module>\u001b[0m:\u001b[36m30\u001b[0m - \u001b[1mweights_21 saved\u001b[0m\n",
      "\u001b[32m2024-04-28 02:58:53.630\u001b[0m | \u001b[1mINFO    \u001b[0m | \u001b[36m__main__\u001b[0m:\u001b[36m<module>\u001b[0m:\u001b[36m40\u001b[0m - \u001b[1mtrain Loss: 0.0021\u001b[0m\n",
      "\u001b[32m2024-04-28 02:58:55.706\u001b[0m | \u001b[1mINFO    \u001b[0m | \u001b[36m__main__\u001b[0m:\u001b[36m<module>\u001b[0m:\u001b[36m30\u001b[0m - \u001b[1mweights_22 saved\u001b[0m\n",
      "\u001b[32m2024-04-28 02:58:55.707\u001b[0m | \u001b[1mINFO    \u001b[0m | \u001b[36m__main__\u001b[0m:\u001b[36m<module>\u001b[0m:\u001b[36m40\u001b[0m - \u001b[1mtrain Loss: 0.0021\u001b[0m\n",
      "\u001b[32m2024-04-28 02:58:57.529\u001b[0m | \u001b[1mINFO    \u001b[0m | \u001b[36m__main__\u001b[0m:\u001b[36m<module>\u001b[0m:\u001b[36m30\u001b[0m - \u001b[1mweights_23 saved\u001b[0m\n",
      "\u001b[32m2024-04-28 02:58:57.530\u001b[0m | \u001b[1mINFO    \u001b[0m | \u001b[36m__main__\u001b[0m:\u001b[36m<module>\u001b[0m:\u001b[36m40\u001b[0m - \u001b[1mtrain Loss: 0.0020\u001b[0m\n",
      "\u001b[32m2024-04-28 02:58:59.666\u001b[0m | \u001b[1mINFO    \u001b[0m | \u001b[36m__main__\u001b[0m:\u001b[36m<module>\u001b[0m:\u001b[36m30\u001b[0m - \u001b[1mweights_24 saved\u001b[0m\n",
      "\u001b[32m2024-04-28 02:59:00.994\u001b[0m | \u001b[1mINFO    \u001b[0m | \u001b[36m__main__\u001b[0m:\u001b[36m<module>\u001b[0m:\u001b[36m39\u001b[0m - \u001b[1mcheckpoint_24 saved\u001b[0m\n",
      "\u001b[32m2024-04-28 02:59:00.995\u001b[0m | \u001b[1mINFO    \u001b[0m | \u001b[36m__main__\u001b[0m:\u001b[36m<module>\u001b[0m:\u001b[36m40\u001b[0m - \u001b[1mtrain Loss: 0.0020\u001b[0m\n",
      "\u001b[32m2024-04-28 02:59:02.914\u001b[0m | \u001b[1mINFO    \u001b[0m | \u001b[36m__main__\u001b[0m:\u001b[36m<module>\u001b[0m:\u001b[36m30\u001b[0m - \u001b[1mweights_25 saved\u001b[0m\n",
      "\u001b[32m2024-04-28 02:59:02.916\u001b[0m | \u001b[1mINFO    \u001b[0m | \u001b[36m__main__\u001b[0m:\u001b[36m<module>\u001b[0m:\u001b[36m40\u001b[0m - \u001b[1mtrain Loss: 0.0020\u001b[0m\n",
      "\u001b[32m2024-04-28 02:59:05.015\u001b[0m | \u001b[1mINFO    \u001b[0m | \u001b[36m__main__\u001b[0m:\u001b[36m<module>\u001b[0m:\u001b[36m30\u001b[0m - \u001b[1mweights_26 saved\u001b[0m\n",
      "\u001b[32m2024-04-28 02:59:05.016\u001b[0m | \u001b[1mINFO    \u001b[0m | \u001b[36m__main__\u001b[0m:\u001b[36m<module>\u001b[0m:\u001b[36m40\u001b[0m - \u001b[1mtrain Loss: 0.0020\u001b[0m\n",
      "\u001b[32m2024-04-28 02:59:07.136\u001b[0m | \u001b[1mINFO    \u001b[0m | \u001b[36m__main__\u001b[0m:\u001b[36m<module>\u001b[0m:\u001b[36m30\u001b[0m - \u001b[1mweights_27 saved\u001b[0m\n",
      "\u001b[32m2024-04-28 02:59:07.137\u001b[0m | \u001b[1mINFO    \u001b[0m | \u001b[36m__main__\u001b[0m:\u001b[36m<module>\u001b[0m:\u001b[36m40\u001b[0m - \u001b[1mtrain Loss: 0.0020\u001b[0m\n",
      "\u001b[32m2024-04-28 02:59:08.991\u001b[0m | \u001b[1mINFO    \u001b[0m | \u001b[36m__main__\u001b[0m:\u001b[36m<module>\u001b[0m:\u001b[36m30\u001b[0m - \u001b[1mweights_28 saved\u001b[0m\n",
      "\u001b[32m2024-04-28 02:59:10.407\u001b[0m | \u001b[1mINFO    \u001b[0m | \u001b[36m__main__\u001b[0m:\u001b[36m<module>\u001b[0m:\u001b[36m39\u001b[0m - \u001b[1mcheckpoint_28 saved\u001b[0m\n",
      "\u001b[32m2024-04-28 02:59:10.408\u001b[0m | \u001b[1mINFO    \u001b[0m | \u001b[36m__main__\u001b[0m:\u001b[36m<module>\u001b[0m:\u001b[36m40\u001b[0m - \u001b[1mtrain Loss: 0.0020\u001b[0m\n",
      "\u001b[32m2024-04-28 02:59:12.497\u001b[0m | \u001b[1mINFO    \u001b[0m | \u001b[36m__main__\u001b[0m:\u001b[36m<module>\u001b[0m:\u001b[36m30\u001b[0m - \u001b[1mweights_29 saved\u001b[0m\n",
      "\u001b[32m2024-04-28 02:59:12.498\u001b[0m | \u001b[1mINFO    \u001b[0m | \u001b[36m__main__\u001b[0m:\u001b[36m<module>\u001b[0m:\u001b[36m40\u001b[0m - \u001b[1mtrain Loss: 0.0020\u001b[0m\n",
      "\u001b[32m2024-04-28 02:59:14.337\u001b[0m | \u001b[1mINFO    \u001b[0m | \u001b[36m__main__\u001b[0m:\u001b[36m<module>\u001b[0m:\u001b[36m30\u001b[0m - \u001b[1mweights_30 saved\u001b[0m\n",
      "\u001b[32m2024-04-28 02:59:14.339\u001b[0m | \u001b[1mINFO    \u001b[0m | \u001b[36m__main__\u001b[0m:\u001b[36m<module>\u001b[0m:\u001b[36m40\u001b[0m - \u001b[1mtrain Loss: 0.0020\u001b[0m\n",
      "\u001b[32m2024-04-28 02:59:16.417\u001b[0m | \u001b[1mINFO    \u001b[0m | \u001b[36m__main__\u001b[0m:\u001b[36m<module>\u001b[0m:\u001b[36m30\u001b[0m - \u001b[1mweights_31 saved\u001b[0m\n",
      "\u001b[32m2024-04-28 02:59:16.419\u001b[0m | \u001b[1mINFO    \u001b[0m | \u001b[36m__main__\u001b[0m:\u001b[36m<module>\u001b[0m:\u001b[36m40\u001b[0m - \u001b[1mtrain Loss: 0.0020\u001b[0m\n",
      "\u001b[32m2024-04-28 02:59:18.474\u001b[0m | \u001b[1mINFO    \u001b[0m | \u001b[36m__main__\u001b[0m:\u001b[36m<module>\u001b[0m:\u001b[36m30\u001b[0m - \u001b[1mweights_32 saved\u001b[0m\n",
      "\u001b[32m2024-04-28 02:59:19.742\u001b[0m | \u001b[1mINFO    \u001b[0m | \u001b[36m__main__\u001b[0m:\u001b[36m<module>\u001b[0m:\u001b[36m39\u001b[0m - \u001b[1mcheckpoint_32 saved\u001b[0m\n",
      "\u001b[32m2024-04-28 02:59:19.743\u001b[0m | \u001b[1mINFO    \u001b[0m | \u001b[36m__main__\u001b[0m:\u001b[36m<module>\u001b[0m:\u001b[36m40\u001b[0m - \u001b[1mtrain Loss: 0.0020\u001b[0m\n",
      "\u001b[32m2024-04-28 02:59:22.143\u001b[0m | \u001b[1mINFO    \u001b[0m | \u001b[36m__main__\u001b[0m:\u001b[36m<module>\u001b[0m:\u001b[36m30\u001b[0m - \u001b[1mweights_33 saved\u001b[0m\n",
      "\u001b[32m2024-04-28 02:59:22.144\u001b[0m | \u001b[1mINFO    \u001b[0m | \u001b[36m__main__\u001b[0m:\u001b[36m<module>\u001b[0m:\u001b[36m40\u001b[0m - \u001b[1mtrain Loss: 0.0020\u001b[0m\n",
      "\u001b[32m2024-04-28 02:59:23.976\u001b[0m | \u001b[1mINFO    \u001b[0m | \u001b[36m__main__\u001b[0m:\u001b[36m<module>\u001b[0m:\u001b[36m30\u001b[0m - \u001b[1mweights_34 saved\u001b[0m\n",
      "\u001b[32m2024-04-28 02:59:23.978\u001b[0m | \u001b[1mINFO    \u001b[0m | \u001b[36m__main__\u001b[0m:\u001b[36m<module>\u001b[0m:\u001b[36m40\u001b[0m - \u001b[1mtrain Loss: 0.0020\u001b[0m\n",
      "\u001b[32m2024-04-28 02:59:25.774\u001b[0m | \u001b[1mINFO    \u001b[0m | \u001b[36m__main__\u001b[0m:\u001b[36m<module>\u001b[0m:\u001b[36m30\u001b[0m - \u001b[1mweights_35 saved\u001b[0m\n",
      "\u001b[32m2024-04-28 02:59:25.776\u001b[0m | \u001b[1mINFO    \u001b[0m | \u001b[36m__main__\u001b[0m:\u001b[36m<module>\u001b[0m:\u001b[36m40\u001b[0m - \u001b[1mtrain Loss: 0.0020\u001b[0m\n",
      "\u001b[32m2024-04-28 02:59:27.824\u001b[0m | \u001b[1mINFO    \u001b[0m | \u001b[36m__main__\u001b[0m:\u001b[36m<module>\u001b[0m:\u001b[36m30\u001b[0m - \u001b[1mweights_36 saved\u001b[0m\n",
      "\u001b[32m2024-04-28 02:59:29.038\u001b[0m | \u001b[1mINFO    \u001b[0m | \u001b[36m__main__\u001b[0m:\u001b[36m<module>\u001b[0m:\u001b[36m39\u001b[0m - \u001b[1mcheckpoint_36 saved\u001b[0m\n",
      "\u001b[32m2024-04-28 02:59:29.039\u001b[0m | \u001b[1mINFO    \u001b[0m | \u001b[36m__main__\u001b[0m:\u001b[36m<module>\u001b[0m:\u001b[36m40\u001b[0m - \u001b[1mtrain Loss: 0.0020\u001b[0m\n",
      "\u001b[32m2024-04-28 02:59:30.922\u001b[0m | \u001b[1mINFO    \u001b[0m | \u001b[36m__main__\u001b[0m:\u001b[36m<module>\u001b[0m:\u001b[36m30\u001b[0m - \u001b[1mweights_37 saved\u001b[0m\n",
      "\u001b[32m2024-04-28 02:59:30.924\u001b[0m | \u001b[1mINFO    \u001b[0m | \u001b[36m__main__\u001b[0m:\u001b[36m<module>\u001b[0m:\u001b[36m40\u001b[0m - \u001b[1mtrain Loss: 0.0020\u001b[0m\n",
      "\u001b[32m2024-04-28 02:59:33.035\u001b[0m | \u001b[1mINFO    \u001b[0m | \u001b[36m__main__\u001b[0m:\u001b[36m<module>\u001b[0m:\u001b[36m30\u001b[0m - \u001b[1mweights_38 saved\u001b[0m\n",
      "\u001b[32m2024-04-28 02:59:33.037\u001b[0m | \u001b[1mINFO    \u001b[0m | \u001b[36m__main__\u001b[0m:\u001b[36m<module>\u001b[0m:\u001b[36m40\u001b[0m - \u001b[1mtrain Loss: 0.0020\u001b[0m\n",
      "\u001b[32m2024-04-28 02:59:34.691\u001b[0m | \u001b[1mINFO    \u001b[0m | \u001b[36m__main__\u001b[0m:\u001b[36m<module>\u001b[0m:\u001b[36m30\u001b[0m - \u001b[1mweights_39 saved\u001b[0m\n",
      "\u001b[32m2024-04-28 02:59:34.692\u001b[0m | \u001b[1mINFO    \u001b[0m | \u001b[36m__main__\u001b[0m:\u001b[36m<module>\u001b[0m:\u001b[36m40\u001b[0m - \u001b[1mtrain Loss: 0.0020\u001b[0m\n",
      "\u001b[32m2024-04-28 02:59:36.822\u001b[0m | \u001b[1mINFO    \u001b[0m | \u001b[36m__main__\u001b[0m:\u001b[36m<module>\u001b[0m:\u001b[36m30\u001b[0m - \u001b[1mweights_40 saved\u001b[0m\n",
      "\u001b[32m2024-04-28 02:59:38.098\u001b[0m | \u001b[1mINFO    \u001b[0m | \u001b[36m__main__\u001b[0m:\u001b[36m<module>\u001b[0m:\u001b[36m39\u001b[0m - \u001b[1mcheckpoint_40 saved\u001b[0m\n",
      "\u001b[32m2024-04-28 02:59:38.099\u001b[0m | \u001b[1mINFO    \u001b[0m | \u001b[36m__main__\u001b[0m:\u001b[36m<module>\u001b[0m:\u001b[36m40\u001b[0m - \u001b[1mtrain Loss: 0.0020\u001b[0m\n",
      "\u001b[32m2024-04-28 02:59:40.211\u001b[0m | \u001b[1mINFO    \u001b[0m | \u001b[36m__main__\u001b[0m:\u001b[36m<module>\u001b[0m:\u001b[36m30\u001b[0m - \u001b[1mweights_41 saved\u001b[0m\n",
      "\u001b[32m2024-04-28 02:59:40.212\u001b[0m | \u001b[1mINFO    \u001b[0m | \u001b[36m__main__\u001b[0m:\u001b[36m<module>\u001b[0m:\u001b[36m40\u001b[0m - \u001b[1mtrain Loss: 0.0020\u001b[0m\n",
      "\u001b[32m2024-04-28 02:59:42.305\u001b[0m | \u001b[1mINFO    \u001b[0m | \u001b[36m__main__\u001b[0m:\u001b[36m<module>\u001b[0m:\u001b[36m30\u001b[0m - \u001b[1mweights_42 saved\u001b[0m\n",
      "\u001b[32m2024-04-28 02:59:42.306\u001b[0m | \u001b[1mINFO    \u001b[0m | \u001b[36m__main__\u001b[0m:\u001b[36m<module>\u001b[0m:\u001b[36m40\u001b[0m - \u001b[1mtrain Loss: 0.0020\u001b[0m\n",
      "\u001b[32m2024-04-28 02:59:44.396\u001b[0m | \u001b[1mINFO    \u001b[0m | \u001b[36m__main__\u001b[0m:\u001b[36m<module>\u001b[0m:\u001b[36m30\u001b[0m - \u001b[1mweights_43 saved\u001b[0m\n",
      "\u001b[32m2024-04-28 02:59:44.397\u001b[0m | \u001b[1mINFO    \u001b[0m | \u001b[36m__main__\u001b[0m:\u001b[36m<module>\u001b[0m:\u001b[36m40\u001b[0m - \u001b[1mtrain Loss: 0.0020\u001b[0m\n",
      "\u001b[32m2024-04-28 02:59:46.518\u001b[0m | \u001b[1mINFO    \u001b[0m | \u001b[36m__main__\u001b[0m:\u001b[36m<module>\u001b[0m:\u001b[36m30\u001b[0m - \u001b[1mweights_44 saved\u001b[0m\n",
      "\u001b[32m2024-04-28 02:59:47.836\u001b[0m | \u001b[1mINFO    \u001b[0m | \u001b[36m__main__\u001b[0m:\u001b[36m<module>\u001b[0m:\u001b[36m39\u001b[0m - \u001b[1mcheckpoint_44 saved\u001b[0m\n",
      "\u001b[32m2024-04-28 02:59:47.837\u001b[0m | \u001b[1mINFO    \u001b[0m | \u001b[36m__main__\u001b[0m:\u001b[36m<module>\u001b[0m:\u001b[36m40\u001b[0m - \u001b[1mtrain Loss: 0.0020\u001b[0m\n",
      "\u001b[32m2024-04-28 02:59:49.659\u001b[0m | \u001b[1mINFO    \u001b[0m | \u001b[36m__main__\u001b[0m:\u001b[36m<module>\u001b[0m:\u001b[36m30\u001b[0m - \u001b[1mweights_45 saved\u001b[0m\n",
      "\u001b[32m2024-04-28 02:59:49.660\u001b[0m | \u001b[1mINFO    \u001b[0m | \u001b[36m__main__\u001b[0m:\u001b[36m<module>\u001b[0m:\u001b[36m40\u001b[0m - \u001b[1mtrain Loss: 0.0020\u001b[0m\n",
      "\u001b[32m2024-04-28 02:59:51.755\u001b[0m | \u001b[1mINFO    \u001b[0m | \u001b[36m__main__\u001b[0m:\u001b[36m<module>\u001b[0m:\u001b[36m30\u001b[0m - \u001b[1mweights_46 saved\u001b[0m\n",
      "\u001b[32m2024-04-28 02:59:51.756\u001b[0m | \u001b[1mINFO    \u001b[0m | \u001b[36m__main__\u001b[0m:\u001b[36m<module>\u001b[0m:\u001b[36m40\u001b[0m - \u001b[1mtrain Loss: 0.0020\u001b[0m\n",
      "\u001b[32m2024-04-28 02:59:53.325\u001b[0m | \u001b[1mINFO    \u001b[0m | \u001b[36m__main__\u001b[0m:\u001b[36m<module>\u001b[0m:\u001b[36m30\u001b[0m - \u001b[1mweights_47 saved\u001b[0m\n",
      "\u001b[32m2024-04-28 02:59:53.327\u001b[0m | \u001b[1mINFO    \u001b[0m | \u001b[36m__main__\u001b[0m:\u001b[36m<module>\u001b[0m:\u001b[36m40\u001b[0m - \u001b[1mtrain Loss: 0.0020\u001b[0m\n",
      "\u001b[32m2024-04-28 02:59:55.158\u001b[0m | \u001b[1mINFO    \u001b[0m | \u001b[36m__main__\u001b[0m:\u001b[36m<module>\u001b[0m:\u001b[36m30\u001b[0m - \u001b[1mweights_48 saved\u001b[0m\n",
      "\u001b[32m2024-04-28 02:59:56.464\u001b[0m | \u001b[1mINFO    \u001b[0m | \u001b[36m__main__\u001b[0m:\u001b[36m<module>\u001b[0m:\u001b[36m39\u001b[0m - \u001b[1mcheckpoint_48 saved\u001b[0m\n",
      "\u001b[32m2024-04-28 02:59:56.465\u001b[0m | \u001b[1mINFO    \u001b[0m | \u001b[36m__main__\u001b[0m:\u001b[36m<module>\u001b[0m:\u001b[36m40\u001b[0m - \u001b[1mtrain Loss: 0.0020\u001b[0m\n",
      "\u001b[32m2024-04-28 02:59:58.580\u001b[0m | \u001b[1mINFO    \u001b[0m | \u001b[36m__main__\u001b[0m:\u001b[36m<module>\u001b[0m:\u001b[36m30\u001b[0m - \u001b[1mweights_49 saved\u001b[0m\n",
      "\u001b[32m2024-04-28 02:59:58.582\u001b[0m | \u001b[1mINFO    \u001b[0m | \u001b[36m__main__\u001b[0m:\u001b[36m<module>\u001b[0m:\u001b[36m40\u001b[0m - \u001b[1mtrain Loss: 0.0020\u001b[0m\n"
     ]
    }
   ],
   "source": [
    "\n",
    "for epoch in range(epoches):\n",
    "    scheduler.step()\n",
    "    total_loss = 0\n",
    "    batch_num = 0\n",
    "    # 使用混合精度，占用显存更小\n",
    "    with torch.cuda.amp.autocast(enabled=True):\n",
    "        for images,label_tokens in clip_dataloader:\n",
    "            # 将图片和标签token转移到device设备\n",
    "            images = images.to(device)\n",
    "            label_tokens = label_tokens.to(device)\n",
    "            batch_num += 1\n",
    "            # 优化器梯度清零\n",
    "            optimizer.zero_grad()\n",
    "            with torch.set_grad_enabled(phase == \"train\"):\n",
    "                logits_per_image, logits_per_text = net(images, label_tokens)\n",
    "                ground_truth = torch.arange(len(images),dtype=torch.long,device=device)\n",
    "                cur_loss = (loss_img(logits_per_image,ground_truth) + loss_txt(logits_per_text,ground_truth))/2\n",
    "                total_loss += cur_loss\n",
    "                if phase == \"train\":\n",
    "                    cur_loss.backward()\n",
    "                    if device == \"cpu\":\n",
    "                        optimizer.step()\n",
    "                    else:\n",
    "                        optimizer.step()\n",
    "                        clip.model.convert_weights(net) \n",
    "            if batch_num % 4 == 0:\n",
    "                logger.info('{} epoch:{} loss:{}'.format(phase,epoch,cur_loss))\n",
    "        epoch_loss = total_loss / data_size\n",
    "        torch.save(net.state_dict(),f\"{model_name}_epoch_{epoch}.pth\")\n",
    "        logger.info(f\"weights_{epoch} saved\")\n",
    "        if epoch % ckt_gap == 0:\n",
    "            checkpoint_path = f\"{model_name}_ckt.pth\"\n",
    "            checkpoint = {\n",
    "                'it': epoch,\n",
    "                'network': net.state_dict(),\n",
    "                'optimizer': optimizer.state_dict(),\n",
    "                'scheduler': scheduler.state_dict()}\n",
    "            torch.save(checkpoint, checkpoint_path)\n",
    "            logger.info(f\"checkpoint_{epoch} saved\")\n",
    "        logger.info('{} Loss: {:.4f}'.format(\n",
    "            phase, epoch_loss))\n"
   ]
  },
  {
   "cell_type": "markdown",
   "metadata": {},
   "source": [
    "### **test\n"
   ]
  },
  {
   "cell_type": "code",
   "execution_count": null,
   "metadata": {},
   "outputs": [],
   "source": [
    "evaluate(net, preprocess, image_path, labels, use_my=True)"
   ]
  },
  {
   "cell_type": "code",
   "execution_count": 50,
   "metadata": {},
   "outputs": [
    {
     "name": "stdout",
     "output_type": "stream",
     "text": [
      "<class 'PIL.JpegImagePlugin.JpegImageFile'>\n",
      "<class 'torch.Tensor'> torch.Size([3, 224, 224]) cpu\n",
      "cuda:0\n"
     ]
    }
   ],
   "source": []
  },
  {
   "cell_type": "code",
   "execution_count": 51,
   "metadata": {},
   "outputs": [],
   "source": []
  },
  {
   "cell_type": "code",
   "execution_count": 52,
   "metadata": {},
   "outputs": [
    {
     "name": "stdout",
     "output_type": "stream",
     "text": [
      "tensor([[2.9206e-06, 2.7299e-05, 2.3842e-07, 1.0000e+00]], dtype=torch.float16)\n"
     ]
    }
   ],
   "source": [
    "\n",
    "with torch.no_grad():\n",
    "    image_features = net.encode_image(image)\n",
    "    text_features = net.encode_text(text)\n",
    "    logits_per_image, logits_per_text = net(image, text)\n",
    "    probs = logits_per_image.softmax(dim=-1).cpu()\n",
    "    print(probs)"
   ]
  }
 ],
 "metadata": {
  "kernelspec": {
   "display_name": "py39",
   "language": "python",
   "name": "python3"
  },
  "language_info": {
   "codemirror_mode": {
    "name": "ipython",
    "version": 3
   },
   "file_extension": ".py",
   "mimetype": "text/x-python",
   "name": "python",
   "nbconvert_exporter": "python",
   "pygments_lexer": "ipython3",
   "version": "3.9.18"
  }
 },
 "nbformat": 4,
 "nbformat_minor": 2
}
